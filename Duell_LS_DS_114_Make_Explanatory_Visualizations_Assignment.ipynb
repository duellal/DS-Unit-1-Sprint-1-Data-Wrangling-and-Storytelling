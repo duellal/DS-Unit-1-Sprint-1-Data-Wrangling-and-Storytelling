{
  "nbformat": 4,
  "nbformat_minor": 0,
  "metadata": {
    "colab": {
      "name": "Copy of LS_DS_114_Make_Explanatory_Visualizations_Assignment.ipynb",
      "provenance": [],
      "collapsed_sections": [
        "n5buKSbhP57l"
      ],
      "include_colab_link": true
    },
    "language_info": {
      "codemirror_mode": {
        "name": "ipython",
        "version": 3
      },
      "file_extension": ".py",
      "mimetype": "text/x-python",
      "name": "python",
      "nbconvert_exporter": "python",
      "pygments_lexer": "ipython3",
      "version": "3.7.1"
    },
    "kernelspec": {
      "display_name": "Python 3",
      "language": "python",
      "name": "python3"
    }
  },
  "cells": [
    {
      "cell_type": "markdown",
      "metadata": {
        "id": "view-in-github",
        "colab_type": "text"
      },
      "source": [
        "<a href=\"https://colab.research.google.com/github/duellal/DS-Unit-1-Sprint-1-Data-Wrangling-and-Storytelling/blob/master/Duell_LS_DS_114_Make_Explanatory_Visualizations_Assignment.ipynb\" target=\"_parent\"><img src=\"https://colab.research.google.com/assets/colab-badge.svg\" alt=\"Open In Colab\"/></a>"
      ]
    },
    {
      "cell_type": "markdown",
      "metadata": {
        "id": "-8-trVo__vRE"
      },
      "source": [
        "Lambda School Data Science\n",
        "\n",
        "*Unit 1, Sprint 1, Module 4*\n",
        "\n",
        "---\n",
        "\n",
        "# Make Explanatory Visualizations\n",
        "\n",
        "### Objectives\n",
        "\n",
        "- Student can identify the appropriate visualization type for a particular variable type and research question \n",
        "- Student can use Matplotlib to visualize distributions and relationships with continuous and discrete variables\n",
        "- Student can add emphasis and annotations to transform visualizations from exploratory to explanatory\n",
        "- Student can remove clutter from visualizations\n",
        "- Student can identify misleading visualizations and how to fix them\n",
        "\n"
      ]
    },
    {
      "cell_type": "markdown",
      "metadata": {
        "id": "8LPohEc5sv7J"
      },
      "source": [
        "Import the Titanic dataset and print the first 5 rows."
      ]
    },
    {
      "cell_type": "code",
      "metadata": {
        "id": "ihNRKzhzs7_C",
        "colab": {
          "base_uri": "https://localhost:8080/",
          "height": 204
        },
        "outputId": "70a3fb41-f136-4d32-d9b1-9c02b22c4959"
      },
      "source": [
        "\n",
        "import pandas as pd\n",
        "\n",
        "# Load the Titanic dataset from its URL:\n",
        "Titanic = pd.read_csv('https://raw.githubusercontent.com/LambdaSchool/data-science-practice-datasets/main/unit_1/Titanic/Titanic.csv')\n",
        "\n",
        "Titanic.head()"
      ],
      "execution_count": null,
      "outputs": [
        {
          "output_type": "execute_result",
          "data": {
            "text/html": [
              "<div>\n",
              "<style scoped>\n",
              "    .dataframe tbody tr th:only-of-type {\n",
              "        vertical-align: middle;\n",
              "    }\n",
              "\n",
              "    .dataframe tbody tr th {\n",
              "        vertical-align: top;\n",
              "    }\n",
              "\n",
              "    .dataframe thead th {\n",
              "        text-align: right;\n",
              "    }\n",
              "</style>\n",
              "<table border=\"1\" class=\"dataframe\">\n",
              "  <thead>\n",
              "    <tr style=\"text-align: right;\">\n",
              "      <th></th>\n",
              "      <th>Survived</th>\n",
              "      <th>Pclass</th>\n",
              "      <th>Name</th>\n",
              "      <th>Sex</th>\n",
              "      <th>Age</th>\n",
              "      <th>Siblings/Spouses_Aboard</th>\n",
              "      <th>Parents/Children_Aboard</th>\n",
              "      <th>Fare</th>\n",
              "    </tr>\n",
              "  </thead>\n",
              "  <tbody>\n",
              "    <tr>\n",
              "      <th>0</th>\n",
              "      <td>0</td>\n",
              "      <td>3</td>\n",
              "      <td>Mr. Owen Harris Braund</td>\n",
              "      <td>male</td>\n",
              "      <td>22.0</td>\n",
              "      <td>1</td>\n",
              "      <td>0</td>\n",
              "      <td>7.2500</td>\n",
              "    </tr>\n",
              "    <tr>\n",
              "      <th>1</th>\n",
              "      <td>1</td>\n",
              "      <td>1</td>\n",
              "      <td>Mrs. John Bradley (Florence Briggs Thayer) Cum...</td>\n",
              "      <td>female</td>\n",
              "      <td>38.0</td>\n",
              "      <td>1</td>\n",
              "      <td>0</td>\n",
              "      <td>71.2833</td>\n",
              "    </tr>\n",
              "    <tr>\n",
              "      <th>2</th>\n",
              "      <td>1</td>\n",
              "      <td>3</td>\n",
              "      <td>Miss. Laina Heikkinen</td>\n",
              "      <td>female</td>\n",
              "      <td>26.0</td>\n",
              "      <td>0</td>\n",
              "      <td>0</td>\n",
              "      <td>7.9250</td>\n",
              "    </tr>\n",
              "    <tr>\n",
              "      <th>3</th>\n",
              "      <td>1</td>\n",
              "      <td>1</td>\n",
              "      <td>Mrs. Jacques Heath (Lily May Peel) Futrelle</td>\n",
              "      <td>female</td>\n",
              "      <td>35.0</td>\n",
              "      <td>1</td>\n",
              "      <td>0</td>\n",
              "      <td>53.1000</td>\n",
              "    </tr>\n",
              "    <tr>\n",
              "      <th>4</th>\n",
              "      <td>0</td>\n",
              "      <td>3</td>\n",
              "      <td>Mr. William Henry Allen</td>\n",
              "      <td>male</td>\n",
              "      <td>35.0</td>\n",
              "      <td>0</td>\n",
              "      <td>0</td>\n",
              "      <td>8.0500</td>\n",
              "    </tr>\n",
              "  </tbody>\n",
              "</table>\n",
              "</div>"
            ],
            "text/plain": [
              "   Survived  Pclass  ... Parents/Children_Aboard     Fare\n",
              "0         0       3  ...                       0   7.2500\n",
              "1         1       1  ...                       0  71.2833\n",
              "2         1       3  ...                       0   7.9250\n",
              "3         1       1  ...                       0  53.1000\n",
              "4         0       3  ...                       0   8.0500\n",
              "\n",
              "[5 rows x 8 columns]"
            ]
          },
          "metadata": {
            "tags": []
          },
          "execution_count": 304
        }
      ]
    },
    {
      "cell_type": "markdown",
      "metadata": {
        "id": "R03kMCWNumQQ"
      },
      "source": [
        "###1) What are the appropriate visualizations to answer the question \"What was the typical fare paid for passage on the Titanic?\"\n",
        "\n"
      ]
    },
    {
      "cell_type": "markdown",
      "metadata": {
        "id": "zuT6F0hpVbsG"
      },
      "source": [
        "Magnitude graphs suchs as Column/Bar Graphs and Proportional Symbol graphs. Similarly, it may be easier to see the \"typical fare paid\" if you use Ranking graphs such as Ordered Column/Bar graphs and Ordered Proportional Symbol graphs. You can also use Distribution graphs such as Histograms and a dot plot. \n",
        "\n",
        "\n",
        "However, like all plots, you need to know all of your variables to know which one will be most effective for the data you are trying to show. For this particular question you have one variable, which without a second variable is not graphable. I would suggest using the P Class as the second variable. \n",
        "\n",
        "Though based on the question, I would just do a standard histogram since it will count up the amount of times a particular fare was sold. However, there are problems with this method as we have values ranging from 0-512.3292; this means the histogram will be very long and it will be hard to pinpoint the typical fare for the Titanic. Below, I will show the standard histogram with all the values and bin size of 100 to show what the non manipulated data would show. Then I will try to make a \"zoom\" of the peak data in that histogram.\n",
        "\n",
        "Reference for graphs: https://raw.githubusercontent.com/ft-interactive/chart-doctor/master/visual-vocabulary/poster.png"
      ]
    },
    {
      "cell_type": "markdown",
      "metadata": {
        "id": "JnHwnp5BVe6r"
      },
      "source": [
        "###2) Create the visualizations you selected in 2).  "
      ]
    },
    {
      "cell_type": "markdown",
      "metadata": {
        "id": "jVij2VMXAX8u"
      },
      "source": [
        "**Histogram**"
      ]
    },
    {
      "cell_type": "code",
      "metadata": {
        "id": "aUS8zOVhB-8A"
      },
      "source": [
        "import matplotlib as plt\n",
        "from matplotlib.pyplot import hist\n",
        "from matplotlib import pyplot as plt \n",
        "import numpy as np"
      ],
      "execution_count": null,
      "outputs": []
    },
    {
      "cell_type": "code",
      "metadata": {
        "id": "4H948LYYwa0p",
        "colab": {
          "base_uri": "https://localhost:8080/"
        },
        "outputId": "3e2d4bfe-45fc-4f3a-aeff-29a81e759c2c"
      },
      "source": [
        "Titanic['Fare'].describe()"
      ],
      "execution_count": null,
      "outputs": [
        {
          "output_type": "execute_result",
          "data": {
            "text/plain": [
              "count    887.00000\n",
              "mean      32.30542\n",
              "std       49.78204\n",
              "min        0.00000\n",
              "25%        7.92500\n",
              "50%       14.45420\n",
              "75%       31.13750\n",
              "max      512.32920\n",
              "Name: Fare, dtype: float64"
            ]
          },
          "metadata": {
            "tags": []
          },
          "execution_count": 306
        }
      ]
    },
    {
      "cell_type": "code",
      "metadata": {
        "colab": {
          "base_uri": "https://localhost:8080/"
        },
        "id": "qA4CvQ8WDDGr",
        "outputId": "749640a3-5afe-432d-c68c-f49c05f28cec"
      },
      "source": [
        "Titanic['Fare'].value_counts().sort_index().head(60)"
      ],
      "execution_count": null,
      "outputs": [
        {
          "output_type": "execute_result",
          "data": {
            "text/plain": [
              "0.0000    15\n",
              "4.0125     1\n",
              "5.0000     1\n",
              "6.2375     1\n",
              "6.4375     1\n",
              "6.4500     1\n",
              "6.4958     2\n",
              "6.7500     2\n",
              "6.8583     1\n",
              "6.9500     1\n",
              "6.9750     2\n",
              "7.0458     1\n",
              "7.0500     7\n",
              "7.0542     2\n",
              "7.1250     4\n",
              "7.1417     1\n",
              "7.2250    12\n",
              "7.2292    15\n",
              "7.2500    13\n",
              "7.3125     1\n",
              "7.4958     3\n",
              "7.5208     1\n",
              "7.5500     4\n",
              "7.6292     1\n",
              "7.6500     4\n",
              "7.7250     1\n",
              "7.7292     1\n",
              "7.7333     4\n",
              "7.7375     2\n",
              "7.7417     1\n",
              "7.7500    33\n",
              "7.7750    16\n",
              "7.7875     1\n",
              "7.7958     6\n",
              "7.8000     1\n",
              "7.8292     2\n",
              "7.8542    13\n",
              "7.8750     1\n",
              "7.8792     4\n",
              "7.8875     1\n",
              "7.8958    36\n",
              "7.9250    18\n",
              "8.0292     1\n",
              "8.0500    43\n",
              "8.1125     1\n",
              "8.1375     1\n",
              "8.1583     1\n",
              "8.3000     1\n",
              "8.3625     1\n",
              "8.4042     1\n",
              "8.4333     1\n",
              "8.4583     1\n",
              "8.5167     1\n",
              "8.6542     1\n",
              "8.6625    13\n",
              "8.6833     1\n",
              "8.7125     1\n",
              "8.8500     1\n",
              "9.0000     2\n",
              "9.2167     1\n",
              "Name: Fare, dtype: int64"
            ]
          },
          "metadata": {
            "tags": []
          },
          "execution_count": 307
        }
      ]
    },
    {
      "cell_type": "code",
      "metadata": {
        "colab": {
          "base_uri": "https://localhost:8080/"
        },
        "id": "AAYhn9fIQMNN",
        "outputId": "14d5a545-5230-4a97-c2b8-712fd58dbd9c"
      },
      "source": [
        "Titanic['Fare'].value_counts().sort_index().tail(30)"
      ],
      "execution_count": null,
      "outputs": [
        {
          "output_type": "execute_result",
          "data": {
            "text/plain": [
              "80.0000     2\n",
              "81.8583     1\n",
              "82.1708     2\n",
              "83.1583     3\n",
              "83.4750     2\n",
              "86.5000     3\n",
              "89.1042     2\n",
              "90.0000     4\n",
              "91.0792     2\n",
              "93.5000     2\n",
              "106.4250    2\n",
              "108.9000    2\n",
              "110.8833    4\n",
              "113.2750    3\n",
              "120.0000    4\n",
              "133.6500    2\n",
              "134.5000    2\n",
              "135.6333    3\n",
              "146.5208    2\n",
              "151.5500    4\n",
              "153.4625    3\n",
              "164.8667    2\n",
              "211.3375    3\n",
              "211.5000    1\n",
              "221.7792    1\n",
              "227.5250    4\n",
              "247.5208    2\n",
              "262.3750    2\n",
              "263.0000    4\n",
              "512.3292    3\n",
              "Name: Fare, dtype: int64"
            ]
          },
          "metadata": {
            "tags": []
          },
          "execution_count": 308
        }
      ]
    },
    {
      "cell_type": "code",
      "metadata": {
        "colab": {
          "base_uri": "https://localhost:8080/",
          "height": 312
        },
        "id": "uD84kRjpAV_0",
        "outputId": "d202ba6f-0d86-49ad-cfcc-dcdcf0142fde"
      },
      "source": [
        "TitanicHist = hist(Titanic['Fare'], bins=100)\n",
        "plt.xlabel('Fare')\n",
        "plt.ylabel('Total Passengers Per Fare')\n",
        "plt.title('All Fares for Passengers on the Titanic')"
      ],
      "execution_count": null,
      "outputs": [
        {
          "output_type": "execute_result",
          "data": {
            "text/plain": [
              "Text(0.5, 1.0, 'All Fares for Passengers on the Titanic')"
            ]
          },
          "metadata": {
            "tags": []
          },
          "execution_count": 309
        },
        {
          "output_type": "display_data",
          "data": {
            "image/png": "[encoded data removed]",
            "text/plain": [
              "<Figure size 432x288 with 1 Axes>"
            ]
          },
          "metadata": {
            "tags": [],
            "needs_background": "light"
          }
        }
      ]
    },
    {
      "cell_type": "code",
      "metadata": {
        "colab": {
          "base_uri": "https://localhost:8080/",
          "height": 295
        },
        "id": "jSP_nBk7MEWH",
        "outputId": "f2492e8b-cf85-4721-ecd4-ffb1cd417a1d"
      },
      "source": [
        "f = np.array(Titanic['Fare'])\n",
        "plt.hist(f, bins=(0,1,2,3,4,5,6,7,8,9,10,11,12,13,14,15,16,17,18,19,20,21,22,23,24,25,26,27,28,29,30,31,32,33,34,35,36,37,38,39,40,\n",
        "                  41,42,43,44,45,46,47,48,49,50))\n",
        "plt.title('Typical Fares for Passengers on the Titanic')\n",
        "plt.xlabel('Fare')\n",
        "plt.ylabel('Total Passengers Per Fare')\n",
        "plt.show()"
      ],
      "execution_count": null,
      "outputs": [
        {
          "output_type": "display_data",
          "data": {
            "image/png": "[encoded data removed]",
            "text/plain": [
              "<Figure size 432x288 with 1 Axes>"
            ]
          },
          "metadata": {
            "tags": [],
            "needs_background": "light"
          }
        }
      ]
    },
    {
      "cell_type": "markdown",
      "metadata": {
        "id": "1M4_OYgp00pA"
      },
      "source": [
        "###3) Describe your results in a sentence or two."
      ]
    },
    {
      "cell_type": "markdown",
      "metadata": {
        "id": "bXtZ3QkIWAGQ"
      },
      "source": [
        "The first histogram looks like about 350 passengers aboard the Titanic had a pretty low fare. It is hard to say by looking at that histogram what that fare was. It was closer to 0 than 100, but hard to distinguish more than that. \n",
        "\n",
        "The second histogram, which is a zoomed up version of the first histogram on the most typical fares (the highest bars), shows that above 200 people aboard the Titanic paying around 7 or 8. The data also corraborates this when you look at the value counts for the passenger fares. I did not check to see exactly how many people paid between 7 and 8 for their trip. \n",
        "\n",
        "Though this histogram does not show all of the value points in the data, it does more thoroughly show the typical amount paid per passenger. Higher fares, such as fares 100 or higher, were only bought by less than 100 people. Whereas fares 100 and lower were bought by the vast majority aboard the ship. You can see this with the head and tail value counts above the histograms as well as in the first histogram.\n",
        "\n",
        "I made sure to validate my histograms by finding the statistical distribution of the fare data. I did this first as to mentally note what I was looking for within the histogram. I knew that if most of my data for the fares were really high, then I did something wrong. Since the distribution told me that the 25th percentile was 7.9, the 50th percentile was 14.45, and the 75th percentile was 31.1. It also told me that the minimum value a passenger paid was 0 and the highest fare was 512.32. My histogram confirmed that these percentiles were correct as this was where most of my data was, and it also confirmed the minimum fare and the maximum fare."
      ]
    },
    {
      "cell_type": "markdown",
      "metadata": {
        "id": "59jSon6C1MG2"
      },
      "source": [
        "###4) Plot a histogram of fare paid by Titanic passengers by sex to see if there was a difference in fare paid between male and female passengers.  "
      ]
    },
    {
      "cell_type": "code",
      "metadata": {
        "id": "6mvEpMhU3Rcl",
        "colab": {
          "base_uri": "https://localhost:8080/",
          "height": 295
        },
        "outputId": "40c7d8d1-d233-4c3a-97b9-7d9aa1b1490b"
      },
      "source": [
        "Male = Titanic[Titanic['Sex'] == 'male']\n",
        "Female = Titanic[Titanic['Sex'] == 'female']\n",
        "\n",
        "fig, (ax1, ax2) = plt.subplots(1, 2)\n",
        "\n",
        "\n",
        "ax1.hist(Male['Fare'], bins=20)\n",
        "ax2.hist(Female['Fare'], bins=20)\n",
        "\n",
        "ax1.set_title('Male Fares')\n",
        "ax1.set_xlabel('Fare')\n",
        "ax1.set_xticks([0,100,200,300,400,500])\n",
        "ax1.set_ylabel('Number of People')\n",
        "\n",
        "ax2.set_title('Female Fares')\n",
        "ax2.set_xlabel('Fare')\n",
        "ax2.set_xticks([0,100,200,300,400,500])\n",
        "\n",
        "plt.show()"
      ],
      "execution_count": null,
      "outputs": [
        {
          "output_type": "display_data",
          "data": {
            "image/png": "[encoded data removed]",
            "text/plain": [
              "<Figure size 432x288 with 2 Axes>"
            ]
          },
          "metadata": {
            "tags": [],
            "needs_background": "light"
          }
        }
      ]
    },
    {
      "cell_type": "markdown",
      "metadata": {
        "id": "n5buKSbhP57l"
      },
      "source": [
        "###Boxplots Seperate"
      ]
    },
    {
      "cell_type": "code",
      "metadata": {
        "colab": {
          "base_uri": "https://localhost:8080/"
        },
        "id": "W2GPoXE8Ed78",
        "outputId": "eb660439-53af-447a-9b3d-8a06f7bc6028"
      },
      "source": [
        "plt.boxplot(Male['Fare'])\n",
        "plt.xlabel('Male')\n",
        "plt.ylabel('Fare')\n",
        "plt.show()\n",
        "\n",
        "plt.boxplot(Female['Fare'])\n",
        "plt.xlabel('Female')\n",
        "plt.ylabel('Fare')\n",
        "plt.show()"
      ],
      "execution_count": null,
      "outputs": [
        {
          "output_type": "display_data",
          "data": {
            "image/png": "[encoded data removed]",
            "text/plain": [
              "<Figure size 432x288 with 1 Axes>"
            ]
          },
          "metadata": {
            "tags": [],
            "needs_background": "light"
          }
        },
        {
          "output_type": "display_data",
          "data": {
            "image/png": "[encoded data removed]",
            "text/plain": [
              "<Figure size 432x288 with 1 Axes>"
            ]
          },
          "metadata": {
            "tags": [],
            "needs_background": "light"
          }
        }
      ]
    },
    {
      "cell_type": "markdown",
      "metadata": {
        "id": "2LuvhmSyQFJe"
      },
      "source": [
        "###Boxplots Together"
      ]
    },
    {
      "cell_type": "code",
      "metadata": {
        "colab": {
          "base_uri": "https://localhost:8080/",
          "height": 265
        },
        "id": "-Kfl60MKNfGI",
        "outputId": "395a78c6-6151-41db-f1d7-4f108a087cb5"
      },
      "source": [
        "dict = {'Male': Male['Fare'], 'Female': Female['Fare']}\n",
        "fig, ax = plt.subplots()\n",
        "ax.boxplot(dict.values())\n",
        "ax.set_xticklabels(dict.keys())\n",
        "ax.set_yticks([0,50,100,150,200,250,300,350,400,450,500])\n",
        "plt.grid(True)\n",
        "plt.show()"
      ],
      "execution_count": null,
      "outputs": [
        {
          "output_type": "display_data",
          "data": {
            "image/png": "[encoded data removed]",
            "text/plain": [
              "<Figure size 432x288 with 1 Axes>"
            ]
          },
          "metadata": {
            "tags": [],
            "needs_background": "light"
          }
        }
      ]
    },
    {
      "cell_type": "markdown",
      "metadata": {
        "id": "dpVOCB7HWmae"
      },
      "source": [
        "\n",
        "###5) Describe the difference in distribution of fare paid between male and female passengers."
      ]
    },
    {
      "cell_type": "markdown",
      "metadata": {
        "id": "UnB3VZxo4uHT"
      },
      "source": [
        "Both modes for female and male passengers are the same for the fares. Both show that most people paid under 50. Both sets have various outliers. \n",
        "\n",
        "By looking at the boxplots, female passengers paid more per ticket in general as the boxplot for females is more enlongated. Also, no females got aboard the Titanic for free, most females paid between about 5-110 to get aboard. Most male passengers paid between 0 and a little above 50 to board the Titanic. "
      ]
    },
    {
      "cell_type": "markdown",
      "metadata": {
        "id": "GAKb2bwr5I6l"
      },
      "source": [
        "###6) Make a bar plot to show the frequency of individuals in each passenger class."
      ]
    },
    {
      "cell_type": "code",
      "metadata": {
        "colab": {
          "base_uri": "https://localhost:8080/"
        },
        "id": "49x_GlvghWYc",
        "outputId": "025ae5f8-3dd9-4b16-b01a-829a849bb8e1"
      },
      "source": [
        "Titanic['Pclass']"
      ],
      "execution_count": null,
      "outputs": [
        {
          "output_type": "execute_result",
          "data": {
            "text/plain": [
              "0      3\n",
              "1      1\n",
              "2      3\n",
              "3      1\n",
              "4      3\n",
              "      ..\n",
              "882    2\n",
              "883    1\n",
              "884    3\n",
              "885    1\n",
              "886    3\n",
              "Name: Pclass, Length: 887, dtype: int64"
            ]
          },
          "metadata": {
            "tags": []
          },
          "execution_count": 314
        }
      ]
    },
    {
      "cell_type": "code",
      "metadata": {
        "colab": {
          "base_uri": "https://localhost:8080/"
        },
        "id": "x3bbW0tebcIb",
        "outputId": "1beed8e9-8ea1-4409-d434-2ddbce1f6b3a"
      },
      "source": [
        "Titanic['Pclass'].value_counts().sort_index()"
      ],
      "execution_count": null,
      "outputs": [
        {
          "output_type": "execute_result",
          "data": {
            "text/plain": [
              "1    216\n",
              "2    184\n",
              "3    487\n",
              "Name: Pclass, dtype: int64"
            ]
          },
          "metadata": {
            "tags": []
          },
          "execution_count": 315
        }
      ]
    },
    {
      "cell_type": "code",
      "metadata": {
        "id": "R3xU-DCK5PRj",
        "colab": {
          "base_uri": "https://localhost:8080/",
          "height": 295
        },
        "outputId": "d0a9a7a6-fb34-4c7c-81ca-267a2f8d5c82"
      },
      "source": [
        "fig, ax = plt.subplots()\n",
        "\n",
        "plt.bar(x=[1,2,3], height=Titanic['Pclass'].value_counts().sort_index())\n",
        "\n",
        "ax.set_xlabel('Class Type')\n",
        "ax.set_ylabel('Number of People in Class')\n",
        "ax.set_title('Passenger Class Totals Amoung the Titanic')\n",
        "\n",
        "ax.set_xticks([1, 2,3])\n",
        "\n",
        "\n",
        "plt.show()"
      ],
      "execution_count": null,
      "outputs": [
        {
          "output_type": "display_data",
          "data": {
            "image/png": "[encoded data removed]",
            "text/plain": [
              "<Figure size 432x288 with 1 Axes>"
            ]
          },
          "metadata": {
            "tags": [],
            "needs_background": "light"
          }
        }
      ]
    },
    {
      "cell_type": "code",
      "metadata": {
        "colab": {
          "base_uri": "https://localhost:8080/",
          "height": 251
        },
        "id": "RQx-woC8TYQ-",
        "outputId": "aa64e80a-2735-47cd-ab8b-bc3171af96a2"
      },
      "source": [
        "fig, ax = plt.subplots()\n",
        "\n",
        "labels = 'Class 1', 'Class 2', 'Class 3'\n",
        "ax.pie(Titanic['Pclass'].value_counts().sort_index(), labels=labels, autopct='%1.1f%%')\n",
        "ax.axis('equal')\n",
        "plt.show()\n"
      ],
      "execution_count": null,
      "outputs": [
        {
          "output_type": "display_data",
          "data": {
            "image/png": "[encoded data removed]",
            "text/plain": [
              "<Figure size 432x288 with 1 Axes>"
            ]
          },
          "metadata": {
            "tags": []
          }
        }
      ]
    },
    {
      "cell_type": "markdown",
      "metadata": {
        "id": "MbSsjvfTXTPz"
      },
      "source": [
        "###7) Summarize your results from 6)"
      ]
    },
    {
      "cell_type": "markdown",
      "metadata": {
        "id": "wNVCsFFtXZhI"
      },
      "source": [
        "Both the bar graph and the pie chart shows that the majority of the passengers were of Class 3, then Class 1, and with the least amount of people, Class 2. \n",
        "\n",
        "\n",
        "\n",
        "---\n",
        "\n",
        "\n",
        "I made a bar graph using the figure, axes syntax in order to correctly get the graph I wanted. I made sure that when the graph was presented, that it matched the actual data values. I did have an issue where the x and y values were inverted, so I made sure that the x and height on the plt.bar were the exact values I wanted. However, I then had another issue, where the Passenger Class was not the actual value the data was telling me. I had to sort the data by the Pclass or index. To do this, I did the value counts on the Pclass data, then used sort index to sort the classes. This gave me the correct graph for the data. \n",
        "\n",
        "I also added in the x-axis label, the y-axis label, and the title to make the graph readable for the user so there was no misconceptions on what values were what. "
      ]
    },
    {
      "cell_type": "markdown",
      "metadata": {
        "id": "zl0yUdzWXgUz"
      },
      "source": [
        "###8) Create a graphical summary for the number of parents/ children on board for each passenger."
      ]
    },
    {
      "cell_type": "code",
      "metadata": {
        "id": "K18MnbPUX4gV",
        "colab": {
          "base_uri": "https://localhost:8080/"
        },
        "outputId": "98a8c1e3-8c50-4a1e-d398-db565a4502ec"
      },
      "source": [
        "Titanic['Parents/Children_Aboard'].value_counts().sort_index()"
      ],
      "execution_count": null,
      "outputs": [
        {
          "output_type": "execute_result",
          "data": {
            "text/plain": [
              "0    674\n",
              "1    118\n",
              "2     80\n",
              "3      5\n",
              "4      4\n",
              "5      5\n",
              "6      1\n",
              "Name: Parents/Children_Aboard, dtype: int64"
            ]
          },
          "metadata": {
            "tags": []
          },
          "execution_count": 318
        }
      ]
    },
    {
      "cell_type": "code",
      "metadata": {
        "colab": {
          "base_uri": "https://localhost:8080/",
          "height": 295
        },
        "id": "wtKmdKXgdUd1",
        "outputId": "d52ce5e6-8eb4-49d2-9e60-faa94f8ae8dd"
      },
      "source": [
        "fig, ax = plt.subplots()\n",
        "\n",
        "plt.bar(x=[0,1,2,3,4,5,6], height=Titanic['Parents/Children_Aboard'].value_counts().sort_index())\n",
        "\n",
        "ax.set_xlabel('Individuals with Children')\n",
        "ax.set_ylabel('Number of Families')\n",
        "ax.set_title('Number of Families Aboard the Titanic')\n",
        "\n",
        "plt.show()"
      ],
      "execution_count": null,
      "outputs": [
        {
          "output_type": "display_data",
          "data": {
            "image/png": "[encoded data removed]",
            "text/plain": [
              "<Figure size 432x288 with 1 Axes>"
            ]
          },
          "metadata": {
            "tags": [],
            "needs_background": "light"
          }
        }
      ]
    },
    {
      "cell_type": "code",
      "metadata": {
        "colab": {
          "base_uri": "https://localhost:8080/",
          "height": 264
        },
        "id": "s8g-EOznVnQ6",
        "outputId": "a32a7116-bfa7-4f0e-f189-d8c4b6c83e7d"
      },
      "source": [
        "Labels = ('Traveled Alone', 'Traveled with Family')\n",
        "sum = 118+80+5+4+5+1\n",
        "sizes = (674, sum)\n",
        "\n",
        "fig, ax = plt.subplots()\n",
        "\n",
        "ax.pie(sizes, labels=Labels, autopct='%1.1f%%')\n",
        "ax.set_title('Percent of Passengers Traveling with Family')\n",
        "plt.show()"
      ],
      "execution_count": null,
      "outputs": [
        {
          "output_type": "display_data",
          "data": {
            "image/png": "[encoded data removed]",
            "text/plain": [
              "<Figure size 432x288 with 1 Axes>"
            ]
          },
          "metadata": {
            "tags": []
          }
        }
      ]
    },
    {
      "cell_type": "markdown",
      "metadata": {
        "id": "jxo8trtyYL2I"
      },
      "source": [
        "###9) Summarize your results from 8).  Did most individuals travel alone or with family?"
      ]
    },
    {
      "cell_type": "markdown",
      "metadata": {
        "id": "10pB7v8wYVit"
      },
      "source": [
        "Most individuals traveled without children. The highest amount of children with a parent is 1 child, then 2. Three and five children per parent is next, followed closely by four and six children per parent. It is hard to say by this bar graph how many people traveled with 3, 4, 5, and 6 children. They are below 20, but without viewing a zoomed in part of that graph or at the raw data, it is hard to say how many parents had children in those groups. "
      ]
    },
    {
      "cell_type": "markdown",
      "metadata": {
        "id": "lpaeN9_-1ul6"
      },
      "source": [
        "###In 10) - 14)  We will use figure, axes syntax to plot passenger survival by whether the passenger was a child or an adult. "
      ]
    },
    {
      "cell_type": "markdown",
      "metadata": {
        "id": "KC4hmwGNZBo5"
      },
      "source": [
        "###10) Create a variable to categorize the passenger as a child (under age 18) or adult (18 years or older)."
      ]
    },
    {
      "cell_type": "code",
      "metadata": {
        "id": "Vnmr1IXRZg9V",
        "colab": {
          "base_uri": "https://localhost:8080/"
        },
        "outputId": "8bd1d2d0-6c40-43d0-9a9c-e19e82d645e9"
      },
      "source": [
        "adult = 18 <= Titanic['Age']\n",
        "child = 18 > Titanic['Age']\n",
        "\n",
        "child.value_counts()"
      ],
      "execution_count": null,
      "outputs": [
        {
          "output_type": "execute_result",
          "data": {
            "text/plain": [
              "False    757\n",
              "True     130\n",
              "Name: Age, dtype: int64"
            ]
          },
          "metadata": {
            "tags": []
          },
          "execution_count": 321
        }
      ]
    },
    {
      "cell_type": "markdown",
      "metadata": {
        "id": "xO_MMk8gZFw9"
      },
      "source": [
        "###11) Make a cross-tab of survival by age (child vs adult)."
      ]
    },
    {
      "cell_type": "code",
      "metadata": {
        "id": "zzSIQuXRBwi0",
        "colab": {
          "base_uri": "https://localhost:8080/",
          "height": 142
        },
        "outputId": "376cb206-85d4-4a39-eafc-66f34e6bcdf2"
      },
      "source": [
        "pd.crosstab([child, adult], Titanic['Survived'], rownames=['Child', 'Adult'])\n",
        "# 1=True\n",
        "# 0=False"
      ],
      "execution_count": null,
      "outputs": [
        {
          "output_type": "execute_result",
          "data": {
            "text/html": [
              "<div>\n",
              "<style scoped>\n",
              "    .dataframe tbody tr th:only-of-type {\n",
              "        vertical-align: middle;\n",
              "    }\n",
              "\n",
              "    .dataframe tbody tr th {\n",
              "        vertical-align: top;\n",
              "    }\n",
              "\n",
              "    .dataframe thead th {\n",
              "        text-align: right;\n",
              "    }\n",
              "</style>\n",
              "<table border=\"1\" class=\"dataframe\">\n",
              "  <thead>\n",
              "    <tr style=\"text-align: right;\">\n",
              "      <th></th>\n",
              "      <th>Survived</th>\n",
              "      <th>0</th>\n",
              "      <th>1</th>\n",
              "    </tr>\n",
              "    <tr>\n",
              "      <th>Child</th>\n",
              "      <th>Adult</th>\n",
              "      <th></th>\n",
              "      <th></th>\n",
              "    </tr>\n",
              "  </thead>\n",
              "  <tbody>\n",
              "    <tr>\n",
              "      <th>False</th>\n",
              "      <th>True</th>\n",
              "      <td>480</td>\n",
              "      <td>277</td>\n",
              "    </tr>\n",
              "    <tr>\n",
              "      <th>True</th>\n",
              "      <th>False</th>\n",
              "      <td>65</td>\n",
              "      <td>65</td>\n",
              "    </tr>\n",
              "  </tbody>\n",
              "</table>\n",
              "</div>"
            ],
            "text/plain": [
              "Survived       0    1\n",
              "Child Adult          \n",
              "False True   480  277\n",
              "True  False   65   65"
            ]
          },
          "metadata": {
            "tags": []
          },
          "execution_count": 322
        }
      ]
    },
    {
      "cell_type": "markdown",
      "metadata": {
        "id": "TZa_7B-5Z5cF"
      },
      "source": [
        "###12) Create a new data frame to hold the data for the figure."
      ]
    },
    {
      "cell_type": "code",
      "metadata": {
        "id": "V29aOIyI1sMa",
        "colab": {
          "base_uri": "https://localhost:8080/",
          "height": 111
        },
        "outputId": "d3abdfad-21b7-4fec-ae0b-8f75d3760721"
      },
      "source": [
        "cva = pd.DataFrame({'Child': [65,65], 'Adult': [480, 277]})\n",
        "cva"
      ],
      "execution_count": null,
      "outputs": [
        {
          "output_type": "execute_result",
          "data": {
            "text/html": [
              "<div>\n",
              "<style scoped>\n",
              "    .dataframe tbody tr th:only-of-type {\n",
              "        vertical-align: middle;\n",
              "    }\n",
              "\n",
              "    .dataframe tbody tr th {\n",
              "        vertical-align: top;\n",
              "    }\n",
              "\n",
              "    .dataframe thead th {\n",
              "        text-align: right;\n",
              "    }\n",
              "</style>\n",
              "<table border=\"1\" class=\"dataframe\">\n",
              "  <thead>\n",
              "    <tr style=\"text-align: right;\">\n",
              "      <th></th>\n",
              "      <th>Child</th>\n",
              "      <th>Adult</th>\n",
              "    </tr>\n",
              "  </thead>\n",
              "  <tbody>\n",
              "    <tr>\n",
              "      <th>0</th>\n",
              "      <td>65</td>\n",
              "      <td>480</td>\n",
              "    </tr>\n",
              "    <tr>\n",
              "      <th>1</th>\n",
              "      <td>65</td>\n",
              "      <td>277</td>\n",
              "    </tr>\n",
              "  </tbody>\n",
              "</table>\n",
              "</div>"
            ],
            "text/plain": [
              "   Child  Adult\n",
              "0     65    480\n",
              "1     65    277"
            ]
          },
          "metadata": {
            "tags": []
          },
          "execution_count": 323
        }
      ]
    },
    {
      "cell_type": "markdown",
      "metadata": {
        "id": "kY5Z0lAsaNJx"
      },
      "source": [
        "###13) Adapt the plot from the Guided Project to show the relationship between passenger age (child vs adult) and survival."
      ]
    },
    {
      "cell_type": "code",
      "metadata": {
        "colab": {
          "base_uri": "https://localhost:8080/",
          "height": 269
        },
        "id": "uiKbyU5Qkj6i",
        "outputId": "0a0934f9-9df7-42e7-803d-68d376ea634b"
      },
      "source": [
        "fig, ax = plt.subplots()\n",
        "\n",
        "labels = ['Survived', 'Died']\n",
        "xticks = np.arange(len(labels))\n",
        "\n",
        "bwidth = 0.4\n",
        "b1 = [65,65]\n",
        "b2 = [277, 480]\n",
        "\n",
        "r1 = np.arange(len(b1))\n",
        "r2 = [x + bwidth for x in r1]\n",
        "\n",
        "bar1 = plt.bar(r1, b1, width=bwidth, align='center')\n",
        "bar2 = plt.bar(r2, b2, width=bwidth, align='center')\n",
        "\n",
        "ax.set_xticks(xticks+bwidth/2)\n",
        "ax.set_xticklabels(labels)\n",
        "\n",
        "def autolabel(bar):\n",
        "    \"\"\"Attach a text label above each bar in *rects*, displaying its height.\"\"\"\n",
        "    for bar in bar:\n",
        "        height = bar.get_height()\n",
        "        ax.annotate('{}'.format(height),\n",
        "                    xy=(bar.get_x() + bar.get_width() / 2, height),\n",
        "                    xytext=(0, 3),  # 3 points vertical offset\n",
        "                    textcoords=\"offset points\",\n",
        "                    ha='center', va='bottom')\n",
        "        \n",
        "autolabel(bar1)\n",
        "autolabel(bar2)\n",
        "\n",
        "ax.set_yticks([0,50,100,150,200,250,300,350,400,450,500,550])\n",
        "\n",
        "plt.legend([Child, Adult], ['Child', 'Adult'])\n",
        "plt.show()"
      ],
      "execution_count": null,
      "outputs": [
        {
          "output_type": "display_data",
          "data": {
            "image/png": "[encoded data removed]",
            "text/plain": [
              "<Figure size 432x288 with 1 Axes>"
            ]
          },
          "metadata": {
            "tags": [],
            "needs_background": "light"
          }
        }
      ]
    },
    {
      "cell_type": "markdown",
      "metadata": {
        "id": "21YsjFAaRQOr"
      },
      "source": [
        "###14) Summarize your results about passenger survival by age."
      ]
    },
    {
      "cell_type": "markdown",
      "metadata": {
        "id": "LDCwF1KLbLDI"
      },
      "source": [
        "Based on my graph from the data, children had a 50% chance of surviving. Adults had about a third of a chance surviving, though most died. "
      ]
    },
    {
      "cell_type": "markdown",
      "metadata": {
        "id": "gmRDTa8ucXnV"
      },
      "source": [
        "#Project Milestone\n",
        "\n",
        "Take some time to explore the links below.  Think about how we use graphics to answer research questions and how looking at visualizations can help us develop new lines of enquiry.  \n",
        "\n",
        "By the end of the weekend, you should have a pretty good idea (though it can change!) what kind of data and visualizations you'd like to include in your Portfolio Project.\n",
        "\n",
        "### Links\n",
        "\n",
        "- [How to Spot Visualization Lies](https://flowingdata.com/2017/02/09/how-to-spot-visualization-lies/)\n",
        "- [Visual Vocabulary - Vega Edition](http://ft.com/vocabulary)\n",
        "- [Choosing a Python Visualization Tool flowchart](http://pbpython.com/python-vis-flowchart.html)\n",
        "- [Searborn example gallery](http://seaborn.pydata.org/examples/index.html) & [tutorial](http://seaborn.pydata.org/tutorial.html)\n",
        "- [Strong Titles Are The Biggest Bang for Your Buck](http://stephanieevergreen.com/strong-titles/)\n",
        "- [Remove to improve (the data-ink ratio)](https://www.darkhorseanalytics.com/blog/data-looks-better-naked)\n",
        "- [How to Generate FiveThirtyEight Graphs in Python](https://www.dataquest.io/blog/making-538-plots/)"
      ]
    }
  ]
}