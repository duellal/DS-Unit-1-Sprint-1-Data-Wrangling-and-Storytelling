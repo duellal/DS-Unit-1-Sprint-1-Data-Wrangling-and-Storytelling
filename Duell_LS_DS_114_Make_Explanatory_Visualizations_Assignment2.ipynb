{
  "nbformat": 4,
  "nbformat_minor": 0,
  "metadata": {
    "colab": {
      "name": "Copy of LS_DS_114_Make_Explanatory_Visualizations_Assignment2.ipynb",
      "provenance": [],
      "collapsed_sections": [],
      "include_colab_link": true
    },
    "language_info": {
      "codemirror_mode": {
        "name": "ipython",
        "version": 3
      },
      "file_extension": ".py",
      "mimetype": "text/x-python",
      "name": "python",
      "nbconvert_exporter": "python",
      "pygments_lexer": "ipython3",
      "version": "3.7.1"
    },
    "kernelspec": {
      "display_name": "Python 3",
      "language": "python",
      "name": "python3"
    }
  },
  "cells": [
    {
      "cell_type": "markdown",
      "metadata": {
        "id": "view-in-github",
        "colab_type": "text"
      },
      "source": [
        "<a href=\"https://colab.research.google.com/github/duellal/DS-Unit-1-Sprint-1-Data-Wrangling-and-Storytelling/blob/master/Duell_LS_DS_114_Make_Explanatory_Visualizations_Assignment2.ipynb\" target=\"_parent\"><img src=\"https://colab.research.google.com/assets/colab-badge.svg\" alt=\"Open In Colab\"/></a>"
      ]
    },
    {
      "cell_type": "markdown",
      "metadata": {
        "id": "NMEswXWh9mqw"
      },
      "source": [
        "Lambda School Data Science\n",
        "\n",
        "*Unit 1, Sprint 1, Module 4*\n",
        "\n",
        "---\n",
        "\n",
        "# ASSIGNMENT\n",
        "\n",
        "### 1) Replicate the lesson code. I recommend that you [do not copy-paste](https://docs.google.com/document/d/1ubOw9B3Hfip27hF2ZFnW3a3z9xAgrUDRReOEo-FHCVs/edit).\n",
        "\n",
        "Get caught up to where we got our example in class and then try and take things further. How close to \"pixel perfect\" can you make the lecture graph?\n",
        "\n",
        "Once you have something that you're proud of, share your graph in the cohort channel and move on to the second exercise.\n",
        "\n",
        "### 2) Reproduce another example from [FiveThityEight's shared data repository](https://data.fivethirtyeight.com/).\n",
        "\n",
        "**WARNING**: There are a lot of very custom graphs and tables at the above link. I **highly** recommend not trying to reproduce any that look like a table of values or something really different from the graph types that we are already familiar with. Search through the posts until you find a graph type that you are more or less familiar with: histogram, bar chart, stacked bar chart, line chart, [seaborn relplot](https://seaborn.pydata.org/generated/seaborn.relplot.html), etc. Recreating some of the graphics that 538 uses would be a lot easier in Adobe photoshop/illustrator than with matplotlib. \n",
        "\n",
        "- If you put in some time to find a graph that looks \"easy\" to replicate you'll probably find that it's not as easy as you thought. \n",
        "\n",
        "- If you start with a graph that looks hard to replicate you'll probably run up against a brick wall and be disappointed with your afternoon.\n",
        "\n",
        "\n",
        "\n",
        "\n",
        "\n",
        "\n",
        "\n",
        "\n",
        "\n",
        "\n"
      ]
    },
    {
      "cell_type": "markdown",
      "metadata": {
        "id": "-jF8SaOOlYS7"
      },
      "source": [
        "###From Lecture"
      ]
    },
    {
      "cell_type": "code",
      "metadata": {
        "colab": {
          "base_uri": "https://localhost:8080/",
          "height": 355
        },
        "id": "KbezA6qvlWmt",
        "outputId": "ea1eed5b-5a34-4ad1-99fd-d1838304a831"
      },
      "source": [
        "from IPython.display import display, Image\n",
        "\n",
        "url = 'https://fivethirtyeight.com/wp-content/uploads/2017/09/mehtahickey-inconvenient-0830-1.png'\n",
        "example = Image(url=url, width=400)\n",
        "\n",
        "display(example)"
      ],
      "execution_count": null,
      "outputs": [
        {
          "output_type": "display_data",
          "data": {
            "text/html": [
              "<img src=\"https://fivethirtyeight.com/wp-content/uploads/2017/09/mehtahickey-inconvenient-0830-1.png\" width=\"400\"/>"
            ],
            "text/plain": [
              "<IPython.core.display.Image object>"
            ]
          },
          "metadata": {
            "tags": []
          }
        }
      ]
    },
    {
      "cell_type": "code",
      "metadata": {
        "colab": {
          "base_uri": "https://localhost:8080/",
          "height": 268
        },
        "id": "3tOsnSlPk4Hl",
        "outputId": "212d3839-58fa-420a-df89-676346dd73b8"
      },
      "source": [
        "%matplotlib inline\n",
        "import matplotlib.pyplot as plt\n",
        "import numpy as np\n",
        "import pandas as pd\n",
        "\n",
        "fake = pd.Series([38, 3, 2, 1, 2, 4, 6, 5, 5, 33], \n",
        "                 index=range(1,11))\n",
        "\n",
        "#plt.style.use('____') is a way to make the graph a certain sytle - see matplotlib style section on website\n",
        "\n",
        "fake.plot.bar();\n",
        "#This is an exploratory graph"
      ],
      "execution_count": null,
      "outputs": [
        {
          "output_type": "display_data",
          "data": {
            "image/png": "[encoded data removed]",
            "text/plain": [
              "<Figure size 432x288 with 1 Axes>"
            ]
          },
          "metadata": {
            "tags": [],
            "needs_background": "light"
          }
        }
      ]
    },
    {
      "cell_type": "markdown",
      "metadata": {
        "id": "GYoxiXablcQp"
      },
      "source": [
        "###\"Pixel Perfect\" Graph"
      ]
    },
    {
      "cell_type": "code",
      "metadata": {
        "id": "7SY1ZHawyZvz",
        "colab": {
          "base_uri": "https://localhost:8080/",
          "height": 419
        },
        "outputId": "88c84f8e-a6b3-4291-8770-e95b736f8933"
      },
      "source": [
        "#Use style at the beginning before even starting to plot\n",
        "plt.style.use('fivethirtyeight')\n",
        "\n",
        "#This starts the plot\n",
        "fig, ax = plt.subplots()\n",
        "\n",
        "#Figure Styles\n",
        "#Setting the figure background color\n",
        "fig.set_facecolor('White')\n",
        "\n",
        "#Axes Styles\n",
        "plt.bar(x=[1,2,3,4,5,6,7,8,9,10], height=fake , color='#ED713A', width=0.9)\n",
        "#Typical colors are C1 = Orange, C2 = Green, C3 = Red, C4 = Purple, C5 = Brown, C6 = Pink, C7 = Grey, C8 = Yellow, \n",
        "  #C9 = Aqua, C10 = Blue, C11 and onward recycles the previous colors in continuing order\n",
        "#For other colors or specific colors, google \"color picker\" and put in the Hex value for that color and imput it into the color just like above\n",
        "#Width is the width of the bars \n",
        "\n",
        "ax.set_xlabel('Rating', fontsize=9, fontweight='bold', color='#363636', fontname=['Times'])\n",
        "ax.set_ylabel('Percent of Total Votes', fontsize=9, fontweight='bold', color='#363636', fontname=['Times'])\n",
        "#Using title, will be relative to the figure (I think)\n",
        "ax.set_title(\"'An Inconvenient Seqeul: Truth To Power' is divisive\", fontsize=12, fontweight='bold', x=0.32, y=1.1, fontname=['Times'])\n",
        "#Getting a subtitle using ax.text\n",
        "#Using text (unlike title) will be relative to the graph itself. You need to position the text relative to the graph\n",
        "ax.text(s='IMDb ratings for the film as of Aug. 29', x=-1.5, y=42, fontsize=10.5, color='C10', fontweight='bold', fontname=['Times'])\n",
        "\n",
        "#Fixing the tick marks and grid lines\n",
        "ax.set_xticks([1,2,3,4,5,6,7,8,9,10])\n",
        "ax.set_yticks([0,10,20,30,40])\n",
        "\n",
        "ax.set_yticklabels([0,10,20,30,'40%'], fontsize=8, color='#ABABAB')\n",
        "ax.set_xticklabels([1,2,3,4,5,6,7,8,9,10], fontsize=8, color='#ABABAB')\n",
        "\n",
        "#Setting the axes background color\n",
        "ax.set_facecolor('White')\n",
        "\n",
        "#Taking off the sides of the graphing lines (the spines)\n",
        "ax.spines['left'].set_visible(False)\n",
        "ax.spines['right'].set_visible(False)\n",
        "ax.spines['bottom'].set_visible(False)\n",
        "ax.spines['top'].set_visible(False)\n",
        "\n",
        "ax.text(s='_________________________________________________________', x=-1, y=-6, color='#ABABAB')\n",
        "ax.text(s=' FiveThirtyEight                                                                                                               SOURCE: IMDB',\n",
        "        x=-1, y=-8, color='#ABABAB', fontsize=7, fontweight='bold', fontname=['Times'])\n",
        "\n",
        "\n",
        "#This ends the plot\n",
        "plt.show()"
      ],
      "execution_count": null,
      "outputs": [
        {
          "output_type": "stream",
          "text": [
            "findfont: Font family ['Times'] not found. Falling back to DejaVu Sans.\n",
            "findfont: Font family ['Times'] not found. Falling back to DejaVu Sans.\n",
            "findfont: Font family ['Times'] not found. Falling back to DejaVu Sans.\n",
            "findfont: Font family ['Times'] not found. Falling back to DejaVu Sans.\n"
          ],
          "name": "stderr"
        },
        {
          "output_type": "display_data",
          "data": {
            "image/png": "[encoded data removed]",
            "text/plain": [
              "<Figure size 432x288 with 1 Axes>"
            ]
          },
          "metadata": {
            "tags": []
          }
        }
      ]
    },
    {
      "cell_type": "code",
      "metadata": {
        "colab": {
          "base_uri": "https://localhost:8080/",
          "height": 355
        },
        "id": "JjOqL7BBlTa2",
        "outputId": "e7303ed5-86d3-4632-f5a2-8f908b4b9aad"
      },
      "source": [
        "display(example)"
      ],
      "execution_count": null,
      "outputs": [
        {
          "output_type": "display_data",
          "data": {
            "text/html": [
              "<img src=\"https://fivethirtyeight.com/wp-content/uploads/2017/09/mehtahickey-inconvenient-0830-1.png\" width=\"400\"/>"
            ],
            "text/plain": [
              "<IPython.core.display.Image object>"
            ]
          },
          "metadata": {
            "tags": []
          }
        }
      ]
    },
    {
      "cell_type": "markdown",
      "metadata": {
        "id": "zeUlr-WmYeon"
      },
      "source": [
        "##Another FiveThirtyEight Graph Remake"
      ]
    },
    {
      "cell_type": "code",
      "metadata": {
        "colab": {
          "base_uri": "https://localhost:8080/",
          "height": 367
        },
        "id": "U4jIclSWYkto",
        "outputId": "4f1e9f5f-19a4-441c-b526-89d99b0a3748"
      },
      "source": [
        "url = 'https://fivethirtyeight.com/wp-content/uploads/2018/06/koeze-ambj-masc-11.png?w=575'\n",
        "example2 = Image(url=url, width=400)\n",
        "\n",
        "display(example2)"
      ],
      "execution_count": null,
      "outputs": [
        {
          "output_type": "display_data",
          "data": {
            "text/html": [
              "<img src=\"https://fivethirtyeight.com/wp-content/uploads/2018/06/koeze-ambj-masc-11.png?w=575\" width=\"400\"/>"
            ],
            "text/plain": [
              "<IPython.core.display.Image object>"
            ]
          },
          "metadata": {
            "tags": []
          }
        }
      ]
    },
    {
      "cell_type": "code",
      "metadata": {
        "id": "oEfvF7WRY2F5"
      },
      "source": [
        "ex2data1 = pd.Series([60, 70, 58, 52])\n",
        "ex2data2 = pd.Series([40, 30, 42, 48])\n",
        "ex2data3 = pd.Series([1,1,1,1])"
      ],
      "execution_count": null,
      "outputs": []
    },
    {
      "cell_type": "code",
      "metadata": {
        "id": "ISxkkxUxrQE6"
      },
      "source": [
        "import numpy as np\n",
        "from matplotlib.ticker import (MultipleLocator, FormatStrFormatter,\n",
        "                               AutoMinorLocator)\n",
        "import matplotlib.ticker as ticker"
      ],
      "execution_count": null,
      "outputs": []
    },
    {
      "cell_type": "code",
      "metadata": {
        "colab": {
          "base_uri": "https://localhost:8080/",
          "height": 450
        },
        "id": "nTWLMRwoYx76",
        "outputId": "008ccc6a-be11-40fa-82ca-61676c2e4565"
      },
      "source": [
        "fig, ax = plt.subplots()\n",
        "\n",
        "ylabels = ['All adult men', '18-34', '35-64', '65+']\n",
        "xlabels = [0,10,20,30,40,50,60,70,80,90,100,110]\n",
        "\n",
        "ax.set_title('Do you think that society puts pressure on men in a way \\nthat is unhealthy or bad for them?\\n\\n\\n\\n', \n",
        "             fontsize=14, fontweight='bold', x=-0.35, y=1, loc='left')\n",
        "ax.text(s='______________________________________________________________________',\n",
        "        x=-35, y=-1.3, color='#BABABA')\n",
        "ax.text(s='DATES                                           NO. OF RESPONDENTS',\n",
        "        x=-35, y=-1, color='#BABABA', fontsize=10, fontname=['Roboto'])\n",
        "ax.text(s='May 10-22, 2018                           1,615 adult men',\n",
        "        x=-35, y=-0.8, color='#BABABA', fontsize=10, fontname=['Roboto'])\n",
        "ax.text(s='______________________________________________________________________',\n",
        "        x=-35, y=-0.6, color='#BABABA')\n",
        "ax.text(s='Yes                                         No',\n",
        "        x=1.2, y=0.1, fontweight='bold', fontsize=14)\n",
        "ax.text(s='BY AGE GROUP', \n",
        "        x=-35, y=0.8)\n",
        "ax.text(s='______________________________________________________________________',\n",
        "        x=-35, y=4.5, color='#BABABA')\n",
        "ax.text(s='FiveThirtyEight                                                                              SOURCE: FIVETHIRTYEIGHT/DEATH, SEX & MONEY/SURVEYMONKEY',\n",
        "        x=-35, y=4.7, color='#BABABA', fontsize=7.5)\n",
        "\n",
        "ax.barh(y=(ylabels), width=ex2data1, height=0.35, color='#ED723C')\n",
        "ax.barh(y=(ylabels), width=ex2data2, height=0.35, color='#8CDAE0', left=ex2data1)\n",
        "ax.barh(y=(ylabels), width=ex2data3, height=0.35, color='#D7C9C3', left=ex2data1)\n",
        "\n",
        "ax.xaxis.set_major_locator(MultipleLocator(10))\n",
        "\n",
        "ind = xlabels.index(0)\n",
        "ind1 = xlabels.index(60)\n",
        "ind2 = xlabels.index(110)\n",
        "\n",
        "gridlines = ax.xaxis.get_gridlines()\n",
        "gridlines[ind].set_color('k')\n",
        "gridlines[ind].set_linewidth(1)\n",
        "\n",
        "gridlines[ind1].set_color('k')\n",
        "gridlines[ind1].set_linewidth(1)\n",
        "\n",
        "gridlines[ind2].set_color('k')\n",
        "gridlines[ind2].set_linewidth(1)\n",
        "\n",
        "ax.invert_yaxis()\n",
        "ax.spines['left'].set_visible(True)\n",
        "ax.spines['left'].set_color('k')\n",
        "ax.spines['left'].set_linewidth(1)\n",
        "\n",
        "ax.tick_params(axis='y', direction='out', pad=25)\n",
        "\n",
        "plt.show()"
      ],
      "execution_count": null,
      "outputs": [
        {
          "output_type": "display_data",
          "data": {
            "image/png": "[encoded data removed]",
            "text/plain": [
              "<Figure size 432x288 with 1 Axes>"
            ]
          },
          "metadata": {
            "tags": []
          }
        }
      ]
    },
    {
      "cell_type": "markdown",
      "metadata": {
        "id": "0wSrBzmJyWaV"
      },
      "source": [
        "# STRETCH OPTIONS\n",
        "\n",
        "### 1) Reproduce one of the following using the matplotlib or seaborn libraries:\n",
        "\n",
        "- [thanksgiving-2015](https://fivethirtyeight.com/features/heres-what-your-part-of-america-eats-on-thanksgiving/) \n",
        "- [candy-power-ranking](https://fivethirtyeight.com/features/the-ultimate-halloween-candy-power-ranking/) \n",
        "- or another example of your choice!\n",
        "\n",
        "### 2) Make more charts!\n",
        "\n",
        "Choose a chart you want to make, from [Visual Vocabulary - Vega Edition](http://ft.com/vocabulary).\n",
        "\n",
        "Find the chart in an example gallery of a Python data visualization library:\n",
        "- [Seaborn](http://seaborn.pydata.org/examples/index.html)\n",
        "- [Altair](https://altair-viz.github.io/gallery/index.html)\n",
        "- [Matplotlib](https://matplotlib.org/gallery.html)\n",
        "- [Pandas](https://pandas.pydata.org/pandas-docs/stable/visualization.html)\n",
        "\n",
        "Reproduce the chart. [Optionally, try the \"Ben Franklin Method.\"](https://docs.google.com/document/d/1ubOw9B3Hfip27hF2ZFnW3a3z9xAgrUDRReOEo-FHCVs/edit) If you want, experiment and make changes.\n",
        "\n",
        "Take notes. Consider sharing your work with your cohort!"
      ]
    },
    {
      "cell_type": "code",
      "metadata": {
        "id": "dRJkKftiy5BJ"
      },
      "source": [
        "# More Work Here"
      ],
      "execution_count": null,
      "outputs": []
    }
  ]
}